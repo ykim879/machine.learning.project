{
  "nbformat": 4,
  "nbformat_minor": 0,
  "metadata": {
    "colab": {
      "name": "Soccer Machine Learning",
      "provenance": [],
      "authorship_tag": "ABX9TyOLSfoUWIXZTKq7DArzpVlS",
      "include_colab_link": true
    },
    "kernelspec": {
      "name": "python3",
      "display_name": "Python 3"
    }
  },
  "cells": [
    {
      "cell_type": "markdown",
      "metadata": {
        "id": "view-in-github",
        "colab_type": "text"
      },
      "source": [
        "<a href=\"https://colab.research.google.com/github/ykim879/machine.learning.soccer/blob/gh-pages/Soccer_Machine_Learning.ipynb\" target=\"_parent\"><img src=\"https://colab.research.google.com/assets/colab-badge.svg\" alt=\"Open In Colab\"/></a>"
      ]
    },
    {
      "cell_type": "markdown",
      "metadata": {
        "id": "inneXFub7gJL",
        "colab_type": "text"
      },
      "source": [
        "#Soccer Machine Learning"
      ]
    }
  ]
}