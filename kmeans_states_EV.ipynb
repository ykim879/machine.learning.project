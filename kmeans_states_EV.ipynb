{
 "cells": [
  {
   "cell_type": "code",
   "execution_count": 1,
   "metadata": {
    "scrolled": true
   },
   "outputs": [
    {
     "data": {
      "image/png": "[encoded data removed]",
      "text/plain": [
       "<Figure size 432x288 with 1 Axes>"
      ]
     },
     "metadata": {
      "needs_background": "light"
     },
     "output_type": "display_data"
    },
    {
     "name": "stdout",
     "output_type": "stream",
     "text": [
      "Low risk states: \n",
      " ['Alabama' 'Alaska' 'Arizona' 'Arkansas' 'Colorado' 'Connecticut'\n",
      " 'Delaware' 'District of Columbia' 'Hawaii' 'Idaho' 'Iowa' 'Kansas'\n",
      " 'Kentucky' 'Maine' 'Maryland' 'Massachusetts' 'Minnesota' 'Mississippi'\n",
      " 'Montana' 'Nebraska' 'Nevada' 'New Hampshire' 'New Mexico' 'North Dakota'\n",
      " 'Oklahoma' 'Oregon' 'Rhode Island' 'South Carolina' 'South Dakota' 'Utah'\n",
      " 'Vermont' 'West Virginia' 'Wisconsin' 'Wyoming']\n",
      "\n",
      " Medium risk states: \n",
      " ['Florida' 'Georgia' 'Illinois' 'Indiana' 'Louisiana' 'Michigan'\n",
      " 'Missouri' 'New Jersey' 'New York' 'North Carolina' 'Ohio' 'Pennsylvania'\n",
      " 'Tennessee' 'Virginia' 'Washington']\n",
      "\n",
      " High risk states: \n",
      " ['California' 'Texas']\n"
     ]
    }
   ],
   "source": [
    "import matplotlib.pyplot as plt\n",
    "import pandas as pd\n",
    "\n",
    "from mpl_toolkits.mplot3d import Axes3D\n",
    "from sklearn.cluster import KMeans \n",
    "\n",
    "# extract data from \"kmeans_data_EV.xlsx\"\n",
    "data = pd.read_excel(\"kmeans_data_EV.xlsx\")\n",
    "data = data.drop(['Unnamed: 0'], axis = 1)\n",
    "data = data.to_numpy()\n",
    "\n",
    "# get state labels\n",
    "states = data[1:, 0]\n",
    "\n",
    "# get rows and columns corresponding to necessary data\n",
    "data = data[1:, 1:]\n",
    "kmeans_data = data[:, 0:1]\n",
    "\n",
    "# extract individual data\n",
    "emissions_2018 = data[:,0].tolist()\n",
    "change_in_emissions = data[:,1].tolist()\n",
    "EV_sales = data[:,2].tolist()\n",
    "\n",
    "# conduct kmeans\n",
    "kmeans = KMeans(n_clusters=3,\n",
    "                n_init=3,\n",
    "                init='random',\n",
    "                tol=1e-4, \n",
    "                random_state=170,\n",
    "                verbose=False).fit(kmeans_data)\n",
    "\n",
    "# plot cluster results\n",
    "\n",
    "# fig = plt.figure()\n",
    "# ax = Axes3D(fig)\n",
    "# scatter = ax.scatter(emissions_2018, change_in_emissions, EV_sales, c=kmeans.labels_)\n",
    "\n",
    "# ax.set_xlabel('CO2 Emissions in 2018 (Mt)')\n",
    "# ax.set_ylabel('Change in CO2 Emissions \\n 2010-2018 (Mt)')\n",
    "# ax.set_zlabel('EV sales (# of vehicles)')\n",
    "\n",
    "# handles, labels = scatter.legend_elements()\n",
    "# ax.legend([handles[0], handles[2], handles[1]], ['Low Risk', 'Medium Risk', 'High Risk'])\n",
    "\n",
    "fig, ax = plt.subplots()\n",
    "scatter = ax.scatter(emissions_2018, change_in_emissions, c=kmeans.labels_)\n",
    "\n",
    "ax.set_xlabel('CO2 Emissions in 2018 (Mt)')\n",
    "ax.set_ylabel('Change in CO2 Emissions \\n 2010-2018 (Mt)')\n",
    "\n",
    "handles, labels = scatter.legend_elements()\n",
    "ax.legend([handles[0], handles[2], handles[1]], ['Low Risk', 'Medium Risk', 'High Risk'])\n",
    "\n",
    "plt.show()\n",
    "\n",
    "# determine which states are low, medium, and high risks\n",
    "low_risk = states[kmeans.labels_ == 0]\n",
    "medium_risk = states[kmeans.labels_ == 2]\n",
    "high_risk = states[kmeans.labels_ == 1]\n",
    "\n",
    "print('Low risk states: \\n', low_risk)\n",
    "print('\\n Medium risk states: \\n', medium_risk)\n",
    "print('\\n High risk states: \\n', high_risk)\n"
   ]
  }
 ],
 "metadata": {
  "kernelspec": {
   "display_name": "Python 3",
   "language": "python",
   "name": "python3"
  },
  "language_info": {
   "codemirror_mode": {
    "name": "ipython",
    "version": 3
   },
   "file_extension": ".py",
   "mimetype": "text/x-python",
   "name": "python",
   "nbconvert_exporter": "python",
   "pygments_lexer": "ipython3",
   "version": "3.8.3"
  }
 },
 "nbformat": 4,
 "nbformat_minor": 4
}
