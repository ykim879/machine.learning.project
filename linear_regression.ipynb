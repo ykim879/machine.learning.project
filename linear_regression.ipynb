{
  "nbformat": 4,
  "nbformat_minor": 0,
  "metadata": {
    "colab": {
      "name": "linear_regression.ipynb",
      "provenance": []
    },
    "kernelspec": {
      "display_name": "Python 3",
      "language": "python",
      "name": "python3"
    },
    "language_info": {
      "codemirror_mode": {
        "name": "ipython",
        "version": 3
      },
      "file_extension": ".py",
      "mimetype": "text/x-python",
      "name": "python",
      "nbconvert_exporter": "python",
      "pygments_lexer": "ipython3",
      "version": "3.8.3"
    }
  },
  "cells": [
    {
      "cell_type": "markdown",
      "metadata": {
        "id": "view-in-github"
      },
      "source": [
        "<a href=\"https://colab.research.google.com/github/ykim879/machine.learning.soccer/blob/gh-pages/Copy_of_Soccer_Machine_Learning.ipynb\" target=\"_parent\"><img src=\"https://colab.research.google.com/assets/colab-badge.svg\" alt=\"Open In Colab\"/></a>"
      ]
    },
    {
      "cell_type": "code",
      "metadata": {
        "id": "4H75lUUeB1A-",
        "outputId": "d289d183-288c-497f-c13b-c980e01578f5",
        "colab": {
          "resources": {
            "http://localhost:8080/nbextensions/google.colab/files.js": {
              "data": "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",
              "ok": true,
              "headers": [
                [
                  "content-type",
                  "application/javascript"
                ]
              ],
              "status": 200,
              "status_text": ""
            }
          },
          "base_uri": "https://localhost:8080/",
          "height": 174
        }
      },
      "source": [
        "from google.colab import files\n",
        "files = files.upload()"
      ],
      "execution_count": 4,
      "outputs": [
        {
          "output_type": "display_data",
          "data": {
            "text/html": [
              "\n",
              "     <input type=\"file\" id=\"files-482a3356-358c-4d5b-9a36-44b30abf25bf\" name=\"files[]\" multiple disabled\n",
              "        style=\"border:none\" />\n",
              "     <output id=\"result-482a3356-358c-4d5b-9a36-44b30abf25bf\">\n",
              "      Upload widget is only available when the cell has been executed in the\n",
              "      current browser session. Please rerun this cell to enable.\n",
              "      </output>\n",
              "      <script src=\"/nbextensions/google.colab/files.js\"></script> "
            ],
            "text/plain": [
              "<IPython.core.display.HTML object>"
            ]
          },
          "metadata": {
            "tags": []
          }
        },
        {
          "output_type": "stream",
          "text": [
            "Saving ATV_sales.xlsx to ATV_sales.xlsx\n",
            "Saving kmeans_data_EV.xlsx to kmeans_data_EV.xlsx\n",
            "Saving linear_regression_data_(co2_EV_sales).xlsx to linear_regression_data_(co2_EV_sales).xlsx\n",
            "Saving transportation.xlsx to transportation.xlsx\n"
          ],
          "name": "stdout"
        }
      ]
    },
    {
      "cell_type": "code",
      "metadata": {
        "id": "QWQ7NDooBUpV"
      },
      "source": [
        "import matplotlib.pyplot as plt\n",
        "import numpy as np\n",
        "from sklearn import datasets, linear_model,decomposition\n",
        "from sklearn.metrics import mean_squared_error, r2_score\n",
        "import pandas as pd\n",
        "from mpl_toolkits.mplot3d import Axes3D"
      ],
      "execution_count": 15,
      "outputs": []
    },
    {
      "cell_type": "code",
      "metadata": {
        "id": "Co4XY7NyBUpa",
        "outputId": "fa969ae1-7100-47a9-9743-e376edb4e8a6",
        "colab": {
          "base_uri": "https://localhost:8080/",
          "height": 295
        }
      },
      "source": [
        "carbon_emission = pd.read_excel(\"transportation.xlsx\")\n",
        "carbon_emission = carbon_emission.drop(index = {54,55,56,57})\n",
        "from_ten_to_sixteen = carbon_emission.iloc[:,-10:-2]\n",
        "from_ten_to_sixteen = from_ten_to_sixteen.drop(index = 53)\n",
        "total_emission = carbon_emission.loc[53].tolist()[1:-1]\n",
        "years = carbon_emission.loc[1].tolist()[1:-1]\n",
        "states = carbon_emission.iloc[:,0]\n",
        "states = states.drop(index = {0,1})\n",
        "plt.plot(years[-9:-1], total_emission[-9:-1])\n",
        "plt.xlabel('years')\n",
        "plt.ylabel('total emission')\n",
        "plt.title('charts for total emission for each year')\n",
        "plt.show()"
      ],
      "execution_count": 6,
      "outputs": [
        {
          "output_type": "display_data",
          "data": {
            "image/png": "[encoded data removed]",
            "text/plain": [
              "<Figure size 432x288 with 1 Axes>"
            ]
          },
          "metadata": {
            "tags": [],
            "needs_background": "light"
          }
        }
      ]
    },
    {
      "cell_type": "code",
      "metadata": {
        "id": "r_seqbNbBUpg",
        "outputId": "3fef50ce-b244-43a5-fcdf-db7e1333fcff",
        "colab": {
          "base_uri": "https://localhost:8080/"
        }
      },
      "source": [
        "#the datasets\n",
        "#from_ten_to_sixteen = carbon emssion for each states between 2010 to 2017 (index = 0: years, others: emission for each state)\n",
        "#carbon_emission: dataset directly from transportaition\n",
        "#total emission: total emission for each state from 2014 to 2017\n",
        "#states: name of the states\n",
        "from_ten_to_sixteen, carbon_emission,total_emission,states"
      ],
      "execution_count": 7,
      "outputs": [
        {
          "output_type": "execute_result",
          "data": {
            "text/plain": [
              "(    Unnamed: 31  Unnamed: 32  ...  Unnamed: 37  Unnamed: 38\n",
              " 0           NaN          NaN  ...          NaN          NaN\n",
              " 1        2010.0       2011.0  ...       2016.0       2017.0\n",
              " 2          32.2         32.3  ...         34.7         33.9\n",
              " 3          14.9         14.2  ...         11.8         11.6\n",
              " 4          31.5         31.2  ...         33.0         33.0\n",
              " 5          19.6         19.4  ...         19.4         19.4\n",
              " 6         208.9        201.7  ...        212.7        217.3\n",
              " 7          29.0         28.0  ...         28.1         28.6\n",
              " 8          15.7         15.5  ...         15.3         15.2\n",
              " 9           4.3          4.1  ...          4.6          4.7\n",
              " 10          1.0          1.1  ...          1.2          1.0\n",
              " 11        104.0        102.4  ...        103.5        105.6\n",
              " 12         65.5         64.0  ...         53.9         57.4\n",
              " 13          9.6         10.1  ...         10.2         10.2\n",
              " 14          9.2          8.9  ...         10.7         10.8\n",
              " 15         65.4         64.9  ...         68.2         68.4\n",
              " 16         41.8         41.8  ...         43.3         42.0\n",
              " 17         20.6         20.8  ...         21.3         20.3\n",
              " 18         19.1         18.5  ...         18.6         18.1\n",
              " 19         32.4         31.8  ...         32.0         32.3\n",
              " 20         49.2         49.3  ...         48.5         52.9\n",
              " 21          8.4          8.3  ...          8.9          8.4\n",
              " 22         29.3         28.3  ...         27.5         27.3\n",
              " 23         29.7         30.0  ...         31.6         30.6\n",
              " 24         48.4         47.2  ...         50.1         49.5\n",
              " 25         31.3         31.0  ...         31.3         30.8\n",
              " 26         24.4         23.9  ...         29.7         30.3\n",
              " 27         38.6         37.9  ...         37.9         37.5\n",
              " 28          8.0          8.0  ...          7.8          8.0\n",
              " 29         14.2         13.7  ...         13.8         13.9\n",
              " 30         13.8         13.2  ...         15.0         15.5\n",
              " 31          7.0          6.8  ...          6.7          6.8\n",
              " 32         62.3         64.3  ...         57.9         53.3\n",
              " 33         13.2         13.6  ...         14.1         15.0\n",
              " 34         70.8         65.7  ...         75.0         74.7\n",
              " 35         47.8         46.4  ...         49.0         49.2\n",
              " 36          6.7          7.9  ...          8.3          8.8\n",
              " 37         64.1         63.4  ...         62.7         62.8\n",
              " 38         31.3         31.1  ...         32.5         32.6\n",
              " 39         21.9         20.9  ...         20.4         20.7\n",
              " 40         64.2         62.4  ...         60.3         63.8\n",
              " 41          4.2          4.0  ...          3.8          4.0\n",
              " 42         30.6         30.3  ...         32.6         33.0\n",
              " 43          6.4          6.3  ...          6.8          6.6\n",
              " 44         42.1         42.0  ...         43.5         43.5\n",
              " 45        190.7        191.0  ...        224.5        232.0\n",
              " 46         15.9         17.0  ...         17.7         17.7\n",
              " 47          3.4          3.4  ...          3.4          3.3\n",
              " 48         49.2         47.4  ...         47.5         47.5\n",
              " 49         41.0         40.9  ...         48.9         47.2\n",
              " 50         11.4         11.0  ...         12.2         11.5\n",
              " 51         29.2         28.2  ...         29.4         28.8\n",
              " 52          8.3          7.6  ...          7.7          7.8\n",
              " \n",
              " [53 rows x 8 columns],\n",
              "    Transportation Emissions by State (1980 - 2017)  ...  Unnamed: 40\n",
              " 0            million metric tons of carbon dioxide  ...          NaN\n",
              " 1                                            State  ...     Absolute\n",
              " 2                                          Alabama  ...        -25.5\n",
              " 3                                           Alaska  ...          1.2\n",
              " 4                                          Arizona  ...          8.9\n",
              " 5                                         Arkansas  ...         22.2\n",
              " 6                                       California  ...         -2.9\n",
              " 7                                         Colorado  ...          7.1\n",
              " 8                                      Connecticut  ...          0.2\n",
              " 9                                         Delaware  ...         -2.1\n",
              " 10                            District of Columbia  ...         -0.3\n",
              " 11                                         Florida  ...         17.8\n",
              " 12                                         Georgia  ...          -16\n",
              " 13                                          Hawaii  ...          1.4\n",
              " 14                                           Idaho  ...         -0.7\n",
              " 15                                        Illinois  ...        -13.7\n",
              " 16                                         Indiana  ...        -19.2\n",
              " 17                                            Iowa  ...          6.6\n",
              " 18                                          Kansas  ...          2.7\n",
              " 19                                        Kentucky  ...            1\n",
              " 20                                       Louisiana  ...         13.4\n",
              " 21                                           Maine  ...         -0.1\n",
              " 22                                        Maryland  ...        -11.7\n",
              " 23                                   Massachusetts  ...         -0.9\n",
              " 24                                        Michigan  ...        -23.2\n",
              " 25                                       Minnesota  ...          1.9\n",
              " 26                                     Mississippi  ...         -1.9\n",
              " 27                                        Missouri  ...           18\n",
              " 28                                         Montana  ...          9.3\n",
              " 29                                        Nebraska  ...         13.5\n",
              " 30                                          Nevada  ...         -6.1\n",
              " 31                                   New Hampshire  ...         -2.4\n",
              " 32                                      New Jersey  ...         -4.8\n",
              " 33                                      New Mexico  ...            0\n",
              " 34                                        New York  ...        -27.3\n",
              " 35                                  North Carolina  ...        -25.2\n",
              " 36                                    North Dakota  ...         22.6\n",
              " 37                                            Ohio  ...        -65.3\n",
              " 38                                        Oklahoma  ...          8.9\n",
              " 39                                          Oregon  ...          0.7\n",
              " 40                                    Pennsylvania  ...        -88.5\n",
              " 41                                    Rhode Island  ...            0\n",
              " 42                                  South Carolina  ...         -4.6\n",
              " 43                                    South Dakota  ...         -0.9\n",
              " 44                                       Tennessee  ...        -22.2\n",
              " 45                                           Texas  ...           70\n",
              " 46                                            Utah  ...         10.5\n",
              " 47                                         Vermont  ...         -0.1\n",
              " 48                                        Virginia  ...         -6.5\n",
              " 49                                      Washington  ...         -2.6\n",
              " 50                                   West Virginia  ...        -12.3\n",
              " 51                                       Wisconsin  ...          6.4\n",
              " 52                                         Wyoming  ...         18.7\n",
              " 53                        State total (unadjusted)  ...       -124.3\n",
              " \n",
              " [54 rows x 41 columns],\n",
              " [1397.8,\n",
              "  1382.7,\n",
              "  1350.5,\n",
              "  1354.3,\n",
              "  1384.1,\n",
              "  1414.9,\n",
              "  1465.1,\n",
              "  1511.3,\n",
              "  1571.1,\n",
              "  1583.1,\n",
              "  1580.3,\n",
              "  1559.9,\n",
              "  1582.9,\n",
              "  1601.4,\n",
              "  1641.1,\n",
              "  1675.7,\n",
              "  1720.9,\n",
              "  1739.7,\n",
              "  1776.4,\n",
              "  1822.5,\n",
              "  1866.4,\n",
              "  1845.5,\n",
              "  1886.5,\n",
              "  1886.7,\n",
              "  1953.2,\n",
              "  1979.9,\n",
              "  2008.5,\n",
              "  2013.7,\n",
              "  1890.0,\n",
              "  1824.6,\n",
              "  1841.6,\n",
              "  1813.0,\n",
              "  1778.1,\n",
              "  1808.1,\n",
              "  1826.4,\n",
              "  1851.8,\n",
              "  1889.6,\n",
              "  1905.1,\n",
              "  0.3629274574331092],\n",
              " 2                      Alabama\n",
              " 3                       Alaska\n",
              " 4                      Arizona\n",
              " 5                     Arkansas\n",
              " 6                   California\n",
              " 7                     Colorado\n",
              " 8                  Connecticut\n",
              " 9                     Delaware\n",
              " 10        District of Columbia\n",
              " 11                     Florida\n",
              " 12                     Georgia\n",
              " 13                      Hawaii\n",
              " 14                       Idaho\n",
              " 15                    Illinois\n",
              " 16                     Indiana\n",
              " 17                        Iowa\n",
              " 18                      Kansas\n",
              " 19                    Kentucky\n",
              " 20                   Louisiana\n",
              " 21                       Maine\n",
              " 22                    Maryland\n",
              " 23               Massachusetts\n",
              " 24                    Michigan\n",
              " 25                   Minnesota\n",
              " 26                 Mississippi\n",
              " 27                    Missouri\n",
              " 28                     Montana\n",
              " 29                    Nebraska\n",
              " 30                      Nevada\n",
              " 31               New Hampshire\n",
              " 32                  New Jersey\n",
              " 33                  New Mexico\n",
              " 34                    New York\n",
              " 35              North Carolina\n",
              " 36                North Dakota\n",
              " 37                        Ohio\n",
              " 38                    Oklahoma\n",
              " 39                      Oregon\n",
              " 40                Pennsylvania\n",
              " 41                Rhode Island\n",
              " 42              South Carolina\n",
              " 43                South Dakota\n",
              " 44                   Tennessee\n",
              " 45                       Texas\n",
              " 46                        Utah\n",
              " 47                     Vermont\n",
              " 48                    Virginia\n",
              " 49                  Washington\n",
              " 50               West Virginia\n",
              " 51                   Wisconsin\n",
              " 52                     Wyoming\n",
              " 53    State total (unadjusted)\n",
              " Name: Transportation Emissions by State (1980 - 2017), dtype: object)"
            ]
          },
          "metadata": {
            "tags": []
          },
          "execution_count": 7
        }
      ]
    },
    {
      "cell_type": "code",
      "metadata": {
        "id": "5sx54fVaBUpl",
        "outputId": "b2957d6e-0a22-48bb-bb98-3d010d4aefc2",
        "colab": {
          "base_uri": "https://localhost:8080/"
        }
      },
      "source": [
        "#from index 2 to 52 will be dimension\n",
        "state = carbon_emission.loc[2].tolist()\n",
        "data = carbon_emission.iloc[2:52,-7:-2].to_dict()#from 2013 to 2017\n",
        "x_data = np.zeros((5,50))#dimension is emission from states and each data is each year\n",
        "for i in range(len(data)):\n",
        "    column = 'Unnamed: '+ str(i+34)\n",
        "    print(column)\n",
        "    x_data[i] = list(data[column].values())\n",
        "    print(x_data[i])"
      ],
      "execution_count": 8,
      "outputs": [
        {
          "output_type": "stream",
          "text": [
            "Unnamed: 34\n",
            "[ 31.6  12.3  31.1  18.7 197.6  27.5  15.1   4.1   1.  100.   55.9   9.9\n",
            "   9.2  63.7  42.5  20.3  19.5  29.9  45.4   8.8  28.3  30.4  48.7  30.\n",
            "  24.9  37.1   8.1  13.4  14.2   6.7  58.3  13.7  68.5  49.1   9.4  62.6\n",
            "  30.6  20.7  61.    3.9  30.9   6.5  40.6 208.3  17.1   3.3  49.7  41.4\n",
            "  11.1  28. ]\n",
            "Unnamed: 35\n",
            "[ 31.6  11.7  31.3  19.  200.   28.2  15.1   4.2   1.1 101.1  53.5   9.9\n",
            "   9.3  65.   43.3  20.9  20.5  30.8  44.3   8.8  27.7  28.8  48.2  30.2\n",
            "  25.8  37.7   7.8  13.9  14.1   6.7  58.8  14.3  72.9  49.2  10.   63.5\n",
            "  32.7  20.8  60.8   4.1  30.2   6.7  41.6 211.6  16.8   3.3  48.8  40.5\n",
            "  11.1  30.2]\n",
            "Unnamed: 36\n",
            "[ 32.9  12.2  31.9  18.8 205.6  27.9  15.1   4.4   1.1 104.8  56.3  10.1\n",
            "  10.3  67.9  43.4  20.2  19.   31.6  47.8   8.8  28.4  29.7  49.4  29.8\n",
            "  26.5  37.5   7.6  13.8  14.3   6.7  58.3  14.4  71.2  48.2   9.2  63.5\n",
            "  32.2  20.3  59.5   4.1  31.8   6.8  42.3 216.4  17.3   3.3  47.2  43.2\n",
            "  11.4  29.7]\n",
            "Unnamed: 37\n",
            "[ 34.7  11.8  33.   19.4 212.7  28.1  15.3   4.6   1.2 103.5  53.9  10.2\n",
            "  10.7  68.2  43.3  21.3  18.6  32.   48.5   8.9  27.5  31.6  50.1  31.3\n",
            "  29.7  37.9   7.8  13.8  15.    6.7  57.9  14.1  75.   49.    8.3  62.7\n",
            "  32.5  20.4  60.3   3.8  32.6   6.8  43.5 224.5  17.7   3.4  47.5  48.9\n",
            "  12.2  29.4]\n",
            "Unnamed: 38\n",
            "[ 33.9  11.6  33.   19.4 217.3  28.6  15.2   4.7   1.  105.6  57.4  10.2\n",
            "  10.8  68.4  42.   20.3  18.1  32.3  52.9   8.4  27.3  30.6  49.5  30.8\n",
            "  30.3  37.5   8.   13.9  15.5   6.8  53.3  15.   74.7  49.2   8.8  62.8\n",
            "  32.6  20.7  63.8   4.   33.    6.6  43.5 232.   17.7   3.3  47.5  47.2\n",
            "  11.5  28.8]\n"
          ],
          "name": "stdout"
        }
      ]
    },
    {
      "cell_type": "markdown",
      "metadata": {
        "id": "kQ_YVbzpBUpq"
      },
      "source": [
        "# Linear Regression"
      ]
    },
    {
      "cell_type": "markdown",
      "metadata": {
        "id": "9Ew7dq4VBUpq"
      },
      "source": [
        "#### read the data\n",
        "dataset for linear regression"
      ]
    },
    {
      "cell_type": "code",
      "metadata": {
        "id": "9v8WLAb3BUpr",
        "outputId": "e7bc760f-3d21-4877-830d-7d3f6b3834dc",
        "colab": {
          "base_uri": "https://localhost:8080/",
          "height": 314
        }
      },
      "source": [
        "import pandas as pd\n",
        "import numpy as np\n",
        "dataset = pd.read_excel(\"linear_regression_data_(co2_EV_sales).xlsx\")\n",
        "dataset = dataset.iloc[:,1:]\n",
        "dataset"
      ],
      "execution_count": 9,
      "outputs": [
        {
          "output_type": "execute_result",
          "data": {
            "text/html": [
              "<div>\n",
              "<style scoped>\n",
              "    .dataframe tbody tr th:only-of-type {\n",
              "        vertical-align: middle;\n",
              "    }\n",
              "\n",
              "    .dataframe tbody tr th {\n",
              "        vertical-align: top;\n",
              "    }\n",
              "\n",
              "    .dataframe thead th {\n",
              "        text-align: right;\n",
              "    }\n",
              "</style>\n",
              "<table border=\"1\" class=\"dataframe\">\n",
              "  <thead>\n",
              "    <tr style=\"text-align: right;\">\n",
              "      <th></th>\n",
              "      <th>Unnamed: 1</th>\n",
              "      <th>Unnamed: 2</th>\n",
              "      <th>Unnamed: 3</th>\n",
              "    </tr>\n",
              "  </thead>\n",
              "  <tbody>\n",
              "    <tr>\n",
              "      <th>0</th>\n",
              "      <td>CO2 emissions (million metric tons of carbon d...</td>\n",
              "      <td>EV sales (#of vehicles)</td>\n",
              "      <td>Total car sales (# of vehicles)</td>\n",
              "    </tr>\n",
              "    <tr>\n",
              "      <th>1</th>\n",
              "      <td>1813</td>\n",
              "      <td>9178</td>\n",
              "      <td>12695712</td>\n",
              "    </tr>\n",
              "    <tr>\n",
              "      <th>2</th>\n",
              "      <td>1778.1</td>\n",
              "      <td>12820</td>\n",
              "      <td>15376264</td>\n",
              "    </tr>\n",
              "    <tr>\n",
              "      <th>3</th>\n",
              "      <td>1808.1</td>\n",
              "      <td>46832</td>\n",
              "      <td>15490245</td>\n",
              "    </tr>\n",
              "    <tr>\n",
              "      <th>4</th>\n",
              "      <td>1826.4</td>\n",
              "      <td>60363</td>\n",
              "      <td>16424017</td>\n",
              "    </tr>\n",
              "    <tr>\n",
              "      <th>5</th>\n",
              "      <td>1851.8</td>\n",
              "      <td>477674</td>\n",
              "      <td>17404970</td>\n",
              "    </tr>\n",
              "    <tr>\n",
              "      <th>6</th>\n",
              "      <td>1889.6</td>\n",
              "      <td>483753</td>\n",
              "      <td>17500719</td>\n",
              "    </tr>\n",
              "    <tr>\n",
              "      <th>7</th>\n",
              "      <td>1905.1</td>\n",
              "      <td>95610</td>\n",
              "      <td>17212565</td>\n",
              "    </tr>\n",
              "    <tr>\n",
              "      <th>8</th>\n",
              "      <td>1950</td>\n",
              "      <td>203625</td>\n",
              "      <td>17323849</td>\n",
              "    </tr>\n",
              "  </tbody>\n",
              "</table>\n",
              "</div>"
            ],
            "text/plain": [
              "                                          Unnamed: 1  ...                       Unnamed: 3\n",
              "0  CO2 emissions (million metric tons of carbon d...  ...  Total car sales (# of vehicles)\n",
              "1                                               1813  ...                         12695712\n",
              "2                                             1778.1  ...                         15376264\n",
              "3                                             1808.1  ...                         15490245\n",
              "4                                             1826.4  ...                         16424017\n",
              "5                                             1851.8  ...                         17404970\n",
              "6                                             1889.6  ...                         17500719\n",
              "7                                             1905.1  ...                         17212565\n",
              "8                                               1950  ...                         17323849\n",
              "\n",
              "[9 rows x 3 columns]"
            ]
          },
          "metadata": {
            "tags": []
          },
          "execution_count": 9
        }
      ]
    },
    {
      "cell_type": "markdown",
      "metadata": {
        "id": "WZqM9q9wBUpv"
      },
      "source": [
        "#### sort the dataset for linear regression\n",
        "y: CO2 emissions\n",
        "x1: EV sales\n",
        "x2: total car sales\n",
        "n_total: total number of x data (which is same for y\n",
        "slope: the growth of CO2 emission by "
      ]
    },
    {
      "cell_type": "code",
      "metadata": {
        "id": "UUEqBBl1BUpv",
        "outputId": "e71bb092-95eb-4f9a-98d2-27ed762be708",
        "colab": {
          "base_uri": "https://localhost:8080/"
        }
      },
      "source": [
        "import numpy as np\n",
        "co2emissions = np.asarray(dataset.iloc[1:,0].tolist())\n",
        "evsales = np.asarray(dataset.iloc[1:,1].tolist())\n",
        "totalcarsales = np.asarray(dataset.iloc[1:,2].tolist())\n",
        "n_total = len(co2emissions)\n",
        "co2emissions, evsales, totalcarsales, n_total"
      ],
      "execution_count": 11,
      "outputs": [
        {
          "output_type": "execute_result",
          "data": {
            "text/plain": [
              "(array([1813. , 1778.1, 1808.1, 1826.4, 1851.8, 1889.6, 1905.1, 1950. ]),\n",
              " array([  9178,  12820,  46832,  60363, 477674, 483753,  95610, 203625]),\n",
              " array([12695712, 15376264, 15490245, 16424017, 17404970, 17500719,\n",
              "        17212565, 17323849]),\n",
              " 8)"
            ]
          },
          "metadata": {
            "tags": []
          },
          "execution_count": 11
        }
      ]
    },
    {
      "cell_type": "code",
      "metadata": {
        "id": "VJTPNM0TBUp8",
        "outputId": "463ba8b9-b193-4a03-88b8-0bb32368ed07"
      },
      "source": [
        "#slope by the least squares fit\n",
        "x_normal = x - x.sum()\n",
        "y_normal = y - y.sum()/n_total\n",
        "xdoty = np.dot(x_normal.T, y_normal)\n",
        "xsquare = np.dot(x_normal.T, x_normal)\n",
        "slope = xdoty/xsquare\n",
        "slope"
      ],
      "execution_count": null,
      "outputs": [
        {
          "output_type": "execute_result",
          "data": {
            "text/plain": [
              "3.068726580922174e-06"
            ]
          },
          "metadata": {
            "tags": []
          },
          "execution_count": 23
        }
      ]
    },
    {
      "cell_type": "code",
      "metadata": {
        "id": "UdQgr2XqBUp_",
        "outputId": "714c5377-a90d-4177-b41d-bc0562572775",
        "colab": {
          "base_uri": "https://localhost:8080/"
        }
      },
      "source": [
        "#slope by scikit linear regression\n",
        "from sklearn import datasets, linear_model,decomposition\n",
        "reg = linear_model.LinearRegression()\n",
        "x1 = np.zeros((n_total, 2))\n",
        "x1[:,0] = evsales\n",
        "x1[:,1] = totalcarsales\n",
        "y1 = co2emissions.reshape(-1,1)\n",
        "reg.fit(x1,y1)\n",
        "pred = reg.predict(x1)\n",
        "reg.set_params(normalize = True)\n",
        "pred,reg.coef_,reg.intercept_"
      ],
      "execution_count": 23,
      "outputs": [
        {
          "output_type": "execute_result",
          "data": {
            "text/plain": [
              "(array([[1774.54098826],\n",
              "        [1832.64933002],\n",
              "        [1835.69672802],\n",
              "        [1856.14761823],\n",
              "        [1884.49608043],\n",
              "        [1886.67300624],\n",
              "        [1873.8235358 ],\n",
              "        [1878.07271299]]),\n",
              " array([[1.70287919e-05, 2.16546155e-05]]),\n",
              " array([1499.4639361]))"
            ]
          },
          "metadata": {
            "tags": []
          },
          "execution_count": 23
        }
      ]
    },
    {
      "cell_type": "code",
      "metadata": {
        "id": "wd_p7BKnBUqD",
        "outputId": "09e77450-f9c2-44c0-dae6-d76e9ba12245",
        "colab": {
          "base_uri": "https://localhost:8080/",
          "height": 460
        }
      },
      "source": [
        "#plotting linear regression\n",
        "fig = plt.figure()\n",
        "ax = fig.add_subplot(111, projection='3d')\n",
        "ax.scatter(evsales,totalcarsales,co2emissions,c='blue',marker='o',alpha=1)\n",
        "ax.set_xlabel('EV Sales')\n",
        "ax.set_ylabel('Total Car Sales')\n",
        "ax.set_zlabel('CO2 Emissions')\n",
        "xx,yy,zz= np.meshgrid(x1[:,0],x1[:,1],x1[:,2])\n",
        "combinedArrays = np.vstack((xx.flatten(), yy.flatten(), zz.flatten())).T\n",
        "z = combinedArrays.dot(reg.coef_)\n",
        "ax.plot_surface(combinedArrays[:,0],combinedArrays[:,1],z, alpha=0.5)\n",
        "plt.show()"
      ],
      "execution_count": 27,
      "outputs": [
        {
          "output_type": "error",
          "ename": "IndexError",
          "evalue": "ignored",
          "traceback": [
            "\u001b[0;31m---------------------------------------------------------------------------\u001b[0m",
            "\u001b[0;31mIndexError\u001b[0m                                Traceback (most recent call last)",
            "\u001b[0;32m<ipython-input-27-d35ec75229cb>\u001b[0m in \u001b[0;36m<module>\u001b[0;34m()\u001b[0m\n\u001b[1;32m      6\u001b[0m \u001b[0max\u001b[0m\u001b[0;34m.\u001b[0m\u001b[0mset_ylabel\u001b[0m\u001b[0;34m(\u001b[0m\u001b[0;34m'Total Car Sales'\u001b[0m\u001b[0;34m)\u001b[0m\u001b[0;34m\u001b[0m\u001b[0;34m\u001b[0m\u001b[0m\n\u001b[1;32m      7\u001b[0m \u001b[0max\u001b[0m\u001b[0;34m.\u001b[0m\u001b[0mset_zlabel\u001b[0m\u001b[0;34m(\u001b[0m\u001b[0;34m'CO2 Emissions'\u001b[0m\u001b[0;34m)\u001b[0m\u001b[0;34m\u001b[0m\u001b[0;34m\u001b[0m\u001b[0m\n\u001b[0;32m----> 8\u001b[0;31m \u001b[0mxx\u001b[0m\u001b[0;34m,\u001b[0m\u001b[0myy\u001b[0m\u001b[0;34m,\u001b[0m\u001b[0mzz\u001b[0m\u001b[0;34m=\u001b[0m \u001b[0mnp\u001b[0m\u001b[0;34m.\u001b[0m\u001b[0mmeshgrid\u001b[0m\u001b[0;34m(\u001b[0m\u001b[0mnp\u001b[0m\u001b[0;34m.\u001b[0m\u001b[0marray\u001b[0m\u001b[0;34m(\u001b[0m\u001b[0mx1\u001b[0m\u001b[0;34m)\u001b[0m\u001b[0;34m[\u001b[0m\u001b[0;34m:\u001b[0m\u001b[0;34m,\u001b[0m\u001b[0;36m0\u001b[0m\u001b[0;34m]\u001b[0m\u001b[0;34m,\u001b[0m\u001b[0mnp\u001b[0m\u001b[0;34m.\u001b[0m\u001b[0marray\u001b[0m\u001b[0;34m(\u001b[0m\u001b[0mx1\u001b[0m\u001b[0;34m)\u001b[0m\u001b[0;34m[\u001b[0m\u001b[0;34m:\u001b[0m\u001b[0;34m,\u001b[0m\u001b[0;36m1\u001b[0m\u001b[0;34m]\u001b[0m\u001b[0;34m,\u001b[0m\u001b[0mnp\u001b[0m\u001b[0;34m.\u001b[0m\u001b[0marray\u001b[0m\u001b[0;34m(\u001b[0m\u001b[0mx1\u001b[0m\u001b[0;34m)\u001b[0m\u001b[0;34m[\u001b[0m\u001b[0;34m:\u001b[0m\u001b[0;34m,\u001b[0m\u001b[0;36m2\u001b[0m\u001b[0;34m]\u001b[0m\u001b[0;34m)\u001b[0m\u001b[0;34m\u001b[0m\u001b[0;34m\u001b[0m\u001b[0m\n\u001b[0m\u001b[1;32m      9\u001b[0m \u001b[0mcombinedArrays\u001b[0m \u001b[0;34m=\u001b[0m \u001b[0mnp\u001b[0m\u001b[0;34m.\u001b[0m\u001b[0mvstack\u001b[0m\u001b[0;34m(\u001b[0m\u001b[0;34m(\u001b[0m\u001b[0mxx\u001b[0m\u001b[0;34m.\u001b[0m\u001b[0mflatten\u001b[0m\u001b[0;34m(\u001b[0m\u001b[0;34m)\u001b[0m\u001b[0;34m,\u001b[0m \u001b[0myy\u001b[0m\u001b[0;34m.\u001b[0m\u001b[0mflatten\u001b[0m\u001b[0;34m(\u001b[0m\u001b[0;34m)\u001b[0m\u001b[0;34m,\u001b[0m \u001b[0mzz\u001b[0m\u001b[0;34m.\u001b[0m\u001b[0mflatten\u001b[0m\u001b[0;34m(\u001b[0m\u001b[0;34m)\u001b[0m\u001b[0;34m)\u001b[0m\u001b[0;34m)\u001b[0m\u001b[0;34m.\u001b[0m\u001b[0mT\u001b[0m\u001b[0;34m\u001b[0m\u001b[0;34m\u001b[0m\u001b[0m\n\u001b[1;32m     10\u001b[0m \u001b[0mz\u001b[0m \u001b[0;34m=\u001b[0m \u001b[0mcombinedArrays\u001b[0m\u001b[0;34m.\u001b[0m\u001b[0mdot\u001b[0m\u001b[0;34m(\u001b[0m\u001b[0mreg\u001b[0m\u001b[0;34m.\u001b[0m\u001b[0mcoef_\u001b[0m\u001b[0;34m)\u001b[0m\u001b[0;34m\u001b[0m\u001b[0;34m\u001b[0m\u001b[0m\n",
            "\u001b[0;31mIndexError\u001b[0m: index 2 is out of bounds for axis 1 with size 2"
          ]
        },
        {
          "output_type": "display_data",
          "data": {
            "image/png": "[encoded data removed]",
            "text/plain": [
              "<Figure size 432x288 with 1 Axes>"
            ]
          },
          "metadata": {
            "tags": [],
            "needs_background": "light"
          }
        }
      ]
    },
    {
      "cell_type": "code",
      "metadata": {
        "id": "utjd-FlVBUqI"
      },
      "source": [
        "#prediction using pca\n",
        "combine = np.column_stack((x,y)).T\n",
        "pca = decomposition.PCA(n_components = 1)\n",
        "combine_pca = pca.fit_transform(combine)"
      ],
      "execution_count": null,
      "outputs": []
    },
    {
      "cell_type": "code",
      "metadata": {
        "id": "SMgvpXn9BUqL"
      },
      "source": [
        "plotline(x,y,combine[:,0],combine[:,1],'deeppink',1)\n",
        "plt.show()"
      ],
      "execution_count": null,
      "outputs": []
    },
    {
      "cell_type": "code",
      "metadata": {
        "id": "_BfAEe5-BUqP"
      },
      "source": [
        ""
      ],
      "execution_count": null,
      "outputs": []
    }
  ]
}