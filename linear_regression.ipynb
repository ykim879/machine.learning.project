{
 "cells": [
  {
   "cell_type": "markdown",
   "metadata": {
    "id": "view-in-github"
   },
   "source": [
    "<a href=\"https://colab.research.google.com/github/ykim879/machine.learning.soccer/blob/gh-pages/Copy_of_Soccer_Machine_Learning.ipynb\" target=\"_parent\"><img src=\"https://colab.research.google.com/assets/colab-badge.svg\" alt=\"Open In Colab\"/></a>"
   ]
  },
  {
   "cell_type": "code",
   "execution_count": 2,
   "metadata": {
    "colab": {
     "base_uri": "https://localhost:8080/",
     "height": 174,
     "resources": {
      "http://localhost:8080/nbextensions/google.colab/files.js": {
       "data": "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",
       "headers": [
        [
         "content-type",
         "application/javascript"
        ]
       ],
       "ok": true,
       "status": 200,
       "status_text": ""
      }
     }
    },
    "id": "4H75lUUeB1A-",
    "outputId": "d289d183-288c-497f-c13b-c980e01578f5"
   },
   "outputs": [],
   "source": [
    "#from google.colab import files\n",
    "#files = files.upload()"
   ]
  },
  {
   "cell_type": "code",
   "execution_count": 3,
   "metadata": {
    "id": "QWQ7NDooBUpV"
   },
   "outputs": [],
   "source": [
    "import matplotlib.pyplot as plt\n",
    "import numpy as np\n",
    "from sklearn import datasets, linear_model,decomposition\n",
    "from sklearn.metrics import mean_squared_error, r2_score\n",
    "import pandas as pd\n",
    "from mpl_toolkits.mplot3d import Axes3D"
   ]
  },
  {
   "cell_type": "code",
   "execution_count": 4,
   "metadata": {
    "colab": {
     "base_uri": "https://localhost:8080/",
     "height": 295
    },
    "id": "Co4XY7NyBUpa",
    "outputId": "fa969ae1-7100-47a9-9743-e376edb4e8a6"
   },
   "outputs": [
    {
     "data": {
      "image/png": "[encoded data removed]",
      "text/plain": [
       "<Figure size 432x288 with 1 Axes>"
      ]
     },
     "metadata": {
      "needs_background": "light"
     },
     "output_type": "display_data"
    }
   ],
   "source": [
    "carbon_emission = pd.read_excel(\"transportation.xlsx\")\n",
    "carbon_emission = carbon_emission.drop(index = {54,55,56,57})\n",
    "from_ten_to_sixteen = carbon_emission.iloc[:,-10:-2]\n",
    "from_ten_to_sixteen = from_ten_to_sixteen.drop(index = 53)\n",
    "total_emission = carbon_emission.loc[53].tolist()[1:-1]\n",
    "years = carbon_emission.loc[1].tolist()[1:-1]\n",
    "states = carbon_emission.iloc[:,0]\n",
    "states = states.drop(index = {0,1})\n",
    "plt.plot(years[-9:-1], total_emission[-9:-1])\n",
    "plt.xlabel('years')\n",
    "plt.ylabel('total emission')\n",
    "plt.title('charts for total emission for each year')\n",
    "plt.show()"
   ]
  },
  {
   "cell_type": "code",
   "execution_count": 5,
   "metadata": {
    "colab": {
     "base_uri": "https://localhost:8080/"
    },
    "id": "r_seqbNbBUpg",
    "outputId": "3fef50ce-b244-43a5-fcdf-db7e1333fcff"
   },
   "outputs": [
    {
     "data": {
      "text/plain": [
       "(    Unnamed: 31  Unnamed: 32  Unnamed: 33  Unnamed: 34  Unnamed: 35  \\\n",
       " 0           NaN          NaN          NaN          NaN          NaN   \n",
       " 1        2010.0       2011.0       2012.0       2013.0       2014.0   \n",
       " 2          32.2         32.3         31.8         31.6         31.6   \n",
       " 3          14.9         14.2         13.3         12.3         11.7   \n",
       " 4          31.5         31.2         30.7         31.1         31.3   \n",
       " 5          19.6         19.4         18.7         18.7         19.0   \n",
       " 6         208.9        201.7        196.8        197.6        200.0   \n",
       " 7          29.0         28.0         27.9         27.5         28.2   \n",
       " 8          15.7         15.5         15.1         15.1         15.1   \n",
       " 9           4.3          4.1          4.2          4.1          4.2   \n",
       " 10          1.0          1.1          1.0          1.0          1.1   \n",
       " 11        104.0        102.4         99.4        100.0        101.1   \n",
       " 12         65.5         64.0         57.5         55.9         53.5   \n",
       " 13          9.6         10.1         10.0          9.9          9.9   \n",
       " 14          9.2          8.9          9.0          9.2          9.3   \n",
       " 15         65.4         64.9         62.9         63.7         65.0   \n",
       " 16         41.8         41.8         40.8         42.5         43.3   \n",
       " 17         20.6         20.8         19.9         20.3         20.9   \n",
       " 18         19.1         18.5         18.4         19.5         20.5   \n",
       " 19         32.4         31.8         30.3         29.9         30.8   \n",
       " 20         49.2         49.3         45.2         45.4         44.3   \n",
       " 21          8.4          8.3          7.9          8.8          8.8   \n",
       " 22         29.3         28.3         28.1         28.3         27.7   \n",
       " 23         29.7         30.0         29.3         30.4         28.8   \n",
       " 24         48.4         47.2         46.5         48.7         48.2   \n",
       " 25         31.3         31.0         31.5         30.0         30.2   \n",
       " 26         24.4         23.9         25.6         24.9         25.8   \n",
       " 27         38.6         37.9         36.7         37.1         37.7   \n",
       " 28          8.0          8.0          7.8          8.1          7.8   \n",
       " 29         14.2         13.7         13.3         13.4         13.9   \n",
       " 30         13.8         13.2         13.8         14.2         14.1   \n",
       " 31          7.0          6.8          6.6          6.7          6.7   \n",
       " 32         62.3         64.3         56.7         58.3         58.8   \n",
       " 33         13.2         13.6         13.6         13.7         14.3   \n",
       " 34         70.8         65.7         68.1         68.5         72.9   \n",
       " 35         47.8         46.4         45.5         49.1         49.2   \n",
       " 36          6.7          7.9          9.0          9.4         10.0   \n",
       " 37         64.1         63.4         61.4         62.6         63.5   \n",
       " 38         31.3         31.1         30.5         30.6         32.7   \n",
       " 39         21.9         20.9         20.6         20.7         20.8   \n",
       " 40         64.2         62.4         61.6         61.0         60.8   \n",
       " 41          4.2          4.0          3.8          3.9          4.1   \n",
       " 42         30.6         30.3         29.4         30.9         30.2   \n",
       " 43          6.4          6.3          6.7          6.5          6.7   \n",
       " 44         42.1         42.0         40.5         40.6         41.6   \n",
       " 45        190.7        191.0        191.3        208.3        211.6   \n",
       " 46         15.9         17.0         16.4         17.1         16.8   \n",
       " 47          3.4          3.4          3.3          3.3          3.3   \n",
       " 48         49.2         47.4         49.7         49.7         48.8   \n",
       " 49         41.0         40.9         42.5         41.4         40.5   \n",
       " 50         11.4         11.0         11.4         11.1         11.1   \n",
       " 51         29.2         28.2         28.2         28.0         30.2   \n",
       " 52          8.3          7.6          8.0          7.7          8.1   \n",
       " \n",
       "     Unnamed: 36  Unnamed: 37  Unnamed: 38  \n",
       " 0           NaN          NaN          NaN  \n",
       " 1        2015.0       2016.0       2017.0  \n",
       " 2          32.9         34.7         33.9  \n",
       " 3          12.2         11.8         11.6  \n",
       " 4          31.9         33.0         33.0  \n",
       " 5          18.8         19.4         19.4  \n",
       " 6         205.6        212.7        217.3  \n",
       " 7          27.9         28.1         28.6  \n",
       " 8          15.1         15.3         15.2  \n",
       " 9           4.4          4.6          4.7  \n",
       " 10          1.1          1.2          1.0  \n",
       " 11        104.8        103.5        105.6  \n",
       " 12         56.3         53.9         57.4  \n",
       " 13         10.1         10.2         10.2  \n",
       " 14         10.3         10.7         10.8  \n",
       " 15         67.9         68.2         68.4  \n",
       " 16         43.4         43.3         42.0  \n",
       " 17         20.2         21.3         20.3  \n",
       " 18         19.0         18.6         18.1  \n",
       " 19         31.6         32.0         32.3  \n",
       " 20         47.8         48.5         52.9  \n",
       " 21          8.8          8.9          8.4  \n",
       " 22         28.4         27.5         27.3  \n",
       " 23         29.7         31.6         30.6  \n",
       " 24         49.4         50.1         49.5  \n",
       " 25         29.8         31.3         30.8  \n",
       " 26         26.5         29.7         30.3  \n",
       " 27         37.5         37.9         37.5  \n",
       " 28          7.6          7.8          8.0  \n",
       " 29         13.8         13.8         13.9  \n",
       " 30         14.3         15.0         15.5  \n",
       " 31          6.7          6.7          6.8  \n",
       " 32         58.3         57.9         53.3  \n",
       " 33         14.4         14.1         15.0  \n",
       " 34         71.2         75.0         74.7  \n",
       " 35         48.2         49.0         49.2  \n",
       " 36          9.2          8.3          8.8  \n",
       " 37         63.5         62.7         62.8  \n",
       " 38         32.2         32.5         32.6  \n",
       " 39         20.3         20.4         20.7  \n",
       " 40         59.5         60.3         63.8  \n",
       " 41          4.1          3.8          4.0  \n",
       " 42         31.8         32.6         33.0  \n",
       " 43          6.8          6.8          6.6  \n",
       " 44         42.3         43.5         43.5  \n",
       " 45        216.4        224.5        232.0  \n",
       " 46         17.3         17.7         17.7  \n",
       " 47          3.3          3.4          3.3  \n",
       " 48         47.2         47.5         47.5  \n",
       " 49         43.2         48.9         47.2  \n",
       " 50         11.4         12.2         11.5  \n",
       " 51         29.7         29.4         28.8  \n",
       " 52          7.6          7.7          7.8  ,\n",
       "    Transportation Emissions by State (1980 - 2017)  Unnamed: 1  Unnamed: 2  \\\n",
       " 0            million metric tons of carbon dioxide         NaN         NaN   \n",
       " 1                                            State      1980.0      1981.0   \n",
       " 2                                          Alabama        24.8        24.2   \n",
       " 3                                           Alaska         6.4         7.2   \n",
       " 4                                          Arizona        18.5        18.7   \n",
       " 5                                         Arkansas        14.3        14.7   \n",
       " 6                                       California       170.9       169.3   \n",
       " 7                                         Colorado        17.7        17.6   \n",
       " 8                                      Connecticut        13.2        12.9   \n",
       " 9                                         Delaware         3.9         3.7   \n",
       " 10                            District of Columbia         1.9         2.0   \n",
       " 11                                         Florida        68.2        68.2   \n",
       " 12                                         Georgia        39.1        38.6   \n",
       " 13                                          Hawaii        10.5         8.9   \n",
       " 14                                           Idaho         5.9         5.4   \n",
       " 15                                        Illinois        57.9        55.2   \n",
       " 16                                         Indiana        31.3        31.7   \n",
       " 17                                            Iowa        16.7        15.7   \n",
       " 18                                          Kansas        18.9        18.0   \n",
       " 19                                        Kentucky        22.7        22.6   \n",
       " 20                                       Louisiana        46.1        46.9   \n",
       " 21                                           Maine         5.9         5.9   \n",
       " 22                                        Maryland        22.8        23.2   \n",
       " 23                                   Massachusetts        25.4        25.4   \n",
       " 24                                        Michigan        43.7        42.2   \n",
       " 25                                       Minnesota        23.4        22.4   \n",
       " 26                                     Mississippi        18.1        17.8   \n",
       " 27                                        Missouri        29.1        28.2   \n",
       " 28                                         Montana         6.3         5.9   \n",
       " 29                                        Nebraska         9.9         9.2   \n",
       " 30                                          Nevada         8.3         8.2   \n",
       " 31                                   New Hampshire         4.1         4.0   \n",
       " 32                                      New Jersey        40.8        44.3   \n",
       " 33                                      New Mexico        11.8        13.1   \n",
       " 34                                        New York        71.7        67.2   \n",
       " 35                                  North Carolina        31.5        31.8   \n",
       " 36                                    North Dakota         5.2         5.2   \n",
       " 37                                            Ohio        55.8        54.1   \n",
       " 38                                        Oklahoma        21.5        23.0   \n",
       " 39                                          Oregon        17.0        17.9   \n",
       " 40                                    Pennsylvania        57.7        54.7   \n",
       " 41                                    Rhode Island         3.7         3.6   \n",
       " 42                                  South Carolina        17.7        17.5   \n",
       " 43                                    South Dakota         4.5         4.3   \n",
       " 44                                       Tennessee        28.8        28.8   \n",
       " 45                                           Texas       128.6       130.0   \n",
       " 46                                            Utah         9.0         8.7   \n",
       " 47                                         Vermont         2.4         2.4   \n",
       " 48                                        Virginia        34.4        34.4   \n",
       " 49                                      Washington        30.0        29.2   \n",
       " 50                                   West Virginia        10.2         9.9   \n",
       " 51                                       Wisconsin        23.3        22.7   \n",
       " 52                                         Wyoming         6.2         6.2   \n",
       " 53                        State total (unadjusted)      1397.8      1382.7   \n",
       " \n",
       "     Unnamed: 3  Unnamed: 4  Unnamed: 5  Unnamed: 6  Unnamed: 7  Unnamed: 8  \\\n",
       " 0          NaN         NaN         NaN         NaN         NaN         NaN   \n",
       " 1       1982.0      1983.0      1984.0      1985.0      1986.0      1987.0   \n",
       " 2         23.5        22.9        23.8        23.5        24.5        26.0   \n",
       " 3          7.3         8.3        10.1        10.9        10.6         9.5   \n",
       " 4         18.3        18.5        19.6        20.5        21.1        21.9   \n",
       " 5         14.7        13.7        14.5        14.3        14.7        15.3   \n",
       " 6        160.3       161.8       170.2       169.5       175.2       184.7   \n",
       " 7         18.3        18.0        18.7        19.4        19.6        19.8   \n",
       " 8         13.2        13.3        13.9        14.0        14.2        14.9   \n",
       " 9          3.5         4.0         4.1         4.1         4.3         4.7   \n",
       " 10         2.6         2.0         1.9         1.9         2.1         1.9   \n",
       " 11        66.9        66.8        65.5        67.9        71.7        76.1   \n",
       " 12        38.6        39.9        41.5        42.0        44.2        47.1   \n",
       " 13         7.3         8.5         9.3        10.3         9.1         8.9   \n",
       " 14         5.3         5.2         5.4         5.6         5.7         5.8   \n",
       " 15        53.8        55.3        49.1        50.5        49.7        50.2   \n",
       " 16        30.6        30.7        35.8        36.4        38.6        40.3   \n",
       " 17        15.8        15.6        15.5        15.2        15.0        15.6   \n",
       " 18        17.4        16.9        17.3        18.1        18.6        19.1   \n",
       " 19        22.3        23.4        23.4        22.3        23.4        24.3   \n",
       " 20        41.1        42.7        42.5        41.6        47.0        46.2   \n",
       " 21         6.1         6.0         6.3         6.7         7.2         7.7   \n",
       " 22        22.4        21.8        21.9        22.6        23.2        24.1   \n",
       " 23        25.7        25.7        26.1        27.0        27.5        28.5   \n",
       " 24        39.7        40.1        41.7        42.8        44.3        46.5   \n",
       " 25        21.6        22.0        24.0        23.2        23.4        23.3   \n",
       " 26        17.4        16.8        16.8        17.4        18.8        20.4   \n",
       " 27        28.7        29.0        29.8        30.4        31.9        32.5   \n",
       " 28         5.7         5.9         5.8         5.8         5.7         5.8   \n",
       " 29         9.4        10.0         9.8         9.7         9.8        10.2   \n",
       " 30         8.1         8.2         7.8         7.9         8.2         9.0   \n",
       " 31         4.0         4.1         4.4         4.5         4.9         5.3   \n",
       " 32        51.4        55.0        57.2        57.1        59.4        60.2   \n",
       " 33        11.8        10.7         9.8        11.1        11.5        12.0   \n",
       " 34        60.1        54.2        49.3        58.0        59.2        62.5   \n",
       " 35        31.8        33.3        33.9        34.9        36.9        38.7   \n",
       " 36         5.2         4.9         5.0         4.9         4.7         4.7   \n",
       " 37        52.0        51.7        52.4        53.0        54.8        56.3   \n",
       " 38        24.2        24.0        24.0        23.7        22.6        23.1   \n",
       " 39        18.0        16.9        16.6        17.2        17.6        18.7   \n",
       " 40        51.3        52.1        53.0        53.4        55.7        59.0   \n",
       " 41         3.6         3.6         3.8         3.6         4.0         4.3   \n",
       " 42        17.5        18.0        18.7        18.9        19.6        19.3   \n",
       " 43         4.4         4.2         4.4         4.6         4.2         4.4   \n",
       " 44        28.1        27.9        29.8        30.4        32.5        31.7   \n",
       " 45       133.8       133.0       138.5       143.3       146.9       143.6   \n",
       " 46         8.7         9.0         9.1         9.4        10.1        10.4   \n",
       " 47         2.3         2.4         2.6         2.6         2.7         3.0   \n",
       " 48        33.1        33.9        34.1        35.5        37.4        40.1   \n",
       " 49        27.2        26.1        27.9        29.7        34.7        35.6   \n",
       " 50         9.5        10.3        10.9        10.7         9.6        10.1   \n",
       " 51        21.5        21.7        21.6        22.1        22.5        22.6   \n",
       " 52         5.6         4.7         4.8         4.8         4.5         5.4   \n",
       " 53      1350.5      1354.3      1384.1      1414.9      1465.1      1511.3   \n",
       " \n",
       "     Unnamed: 9  ...  Unnamed: 31  Unnamed: 32  Unnamed: 33  Unnamed: 34  \\\n",
       " 0          NaN  ...          NaN          NaN          NaN          NaN   \n",
       " 1       1988.0  ...       2010.0       2011.0       2012.0       2013.0   \n",
       " 2         26.3  ...         32.2         32.3         31.8         31.6   \n",
       " 3         10.7  ...         14.9         14.2         13.3         12.3   \n",
       " 4         22.6  ...         31.5         31.2         30.7         31.1   \n",
       " 5         16.0  ...         19.6         19.4         18.7         18.7   \n",
       " 6        195.4  ...        208.9        201.7        196.8        197.6   \n",
       " 7         19.2  ...         29.0         28.0         27.9         27.5   \n",
       " 8         15.4  ...         15.7         15.5         15.1         15.1   \n",
       " 9          4.6  ...          4.3          4.1          4.2          4.1   \n",
       " 10         2.0  ...          1.0          1.1          1.0          1.0   \n",
       " 11        80.6  ...        104.0        102.4         99.4        100.0   \n",
       " 12        49.4  ...         65.5         64.0         57.5         55.9   \n",
       " 13        10.1  ...          9.6         10.1         10.0          9.9   \n",
       " 14         5.9  ...          9.2          8.9          9.0          9.2   \n",
       " 15        53.7  ...         65.4         64.9         62.9         63.7   \n",
       " 16        39.2  ...         41.8         41.8         40.8         42.5   \n",
       " 17        16.1  ...         20.6         20.8         19.9         20.3   \n",
       " 18        20.0  ...         19.1         18.5         18.4         19.5   \n",
       " 19        26.4  ...         32.4         31.8         30.3         29.9   \n",
       " 20        49.4  ...         49.2         49.3         45.2         45.4   \n",
       " 21         8.8  ...          8.4          8.3          7.9          8.8   \n",
       " 22        25.0  ...         29.3         28.3         28.1         28.3   \n",
       " 23        29.7  ...         29.7         30.0         29.3         30.4   \n",
       " 24        48.1  ...         48.4         47.2         46.5         48.7   \n",
       " 25        24.3  ...         31.3         31.0         31.5         30.0   \n",
       " 26        21.5  ...         24.4         23.9         25.6         24.9   \n",
       " 27        33.6  ...         38.6         37.9         36.7         37.1   \n",
       " 28         6.0  ...          8.0          8.0          7.8          8.1   \n",
       " 29        11.1  ...         14.2         13.7         13.3         13.4   \n",
       " 30         9.3  ...         13.8         13.2         13.8         14.2   \n",
       " 31         5.5  ...          7.0          6.8          6.6          6.7   \n",
       " 32        57.5  ...         62.3         64.3         56.7         58.3   \n",
       " 33        12.8  ...         13.2         13.6         13.6         13.7   \n",
       " 34        59.7  ...         70.8         65.7         68.1         68.5   \n",
       " 35        40.9  ...         47.8         46.4         45.5         49.1   \n",
       " 36         4.8  ...          6.7          7.9          9.0          9.4   \n",
       " 37        56.8  ...         64.1         63.4         61.4         62.6   \n",
       " 38        23.4  ...         31.3         31.1         30.5         30.6   \n",
       " 39        20.0  ...         21.9         20.9         20.6         20.7   \n",
       " 40        61.2  ...         64.2         62.4         61.6         61.0   \n",
       " 41         4.4  ...          4.2          4.0          3.8          3.9   \n",
       " 42        21.2  ...         30.6         30.3         29.4         30.9   \n",
       " 43         4.5  ...          6.4          6.3          6.7          6.5   \n",
       " 44        32.2  ...         42.1         42.0         40.5         40.6   \n",
       " 45       151.4  ...        190.7        191.0        191.3        208.3   \n",
       " 46        10.7  ...         15.9         17.0         16.4         17.1   \n",
       " 47         3.1  ...          3.4          3.4          3.3          3.3   \n",
       " 48        42.4  ...         49.2         47.4         49.7         49.7   \n",
       " 49        37.4  ...         41.0         40.9         42.5         41.4   \n",
       " 50        10.4  ...         11.4         11.0         11.4         11.1   \n",
       " 51        24.2  ...         29.2         28.2         28.2         28.0   \n",
       " 52         5.9  ...          8.3          7.6          8.0          7.7   \n",
       " 53      1571.1  ...       1841.6       1813.0       1778.1       1808.1   \n",
       " \n",
       "     Unnamed: 35  Unnamed: 36  Unnamed: 37  Unnamed: 38  \\\n",
       " 0           NaN          NaN          NaN          NaN   \n",
       " 1        2014.0       2015.0       2016.0       2017.0   \n",
       " 2          31.6         32.9         34.7         33.9   \n",
       " 3          11.7         12.2         11.8         11.6   \n",
       " 4          31.3         31.9         33.0         33.0   \n",
       " 5          19.0         18.8         19.4         19.4   \n",
       " 6         200.0        205.6        212.7        217.3   \n",
       " 7          28.2         27.9         28.1         28.6   \n",
       " 8          15.1         15.1         15.3         15.2   \n",
       " 9           4.2          4.4          4.6          4.7   \n",
       " 10          1.1          1.1          1.2          1.0   \n",
       " 11        101.1        104.8        103.5        105.6   \n",
       " 12         53.5         56.3         53.9         57.4   \n",
       " 13          9.9         10.1         10.2         10.2   \n",
       " 14          9.3         10.3         10.7         10.8   \n",
       " 15         65.0         67.9         68.2         68.4   \n",
       " 16         43.3         43.4         43.3         42.0   \n",
       " 17         20.9         20.2         21.3         20.3   \n",
       " 18         20.5         19.0         18.6         18.1   \n",
       " 19         30.8         31.6         32.0         32.3   \n",
       " 20         44.3         47.8         48.5         52.9   \n",
       " 21          8.8          8.8          8.9          8.4   \n",
       " 22         27.7         28.4         27.5         27.3   \n",
       " 23         28.8         29.7         31.6         30.6   \n",
       " 24         48.2         49.4         50.1         49.5   \n",
       " 25         30.2         29.8         31.3         30.8   \n",
       " 26         25.8         26.5         29.7         30.3   \n",
       " 27         37.7         37.5         37.9         37.5   \n",
       " 28          7.8          7.6          7.8          8.0   \n",
       " 29         13.9         13.8         13.8         13.9   \n",
       " 30         14.1         14.3         15.0         15.5   \n",
       " 31          6.7          6.7          6.7          6.8   \n",
       " 32         58.8         58.3         57.9         53.3   \n",
       " 33         14.3         14.4         14.1         15.0   \n",
       " 34         72.9         71.2         75.0         74.7   \n",
       " 35         49.2         48.2         49.0         49.2   \n",
       " 36         10.0          9.2          8.3          8.8   \n",
       " 37         63.5         63.5         62.7         62.8   \n",
       " 38         32.7         32.2         32.5         32.6   \n",
       " 39         20.8         20.3         20.4         20.7   \n",
       " 40         60.8         59.5         60.3         63.8   \n",
       " 41          4.1          4.1          3.8          4.0   \n",
       " 42         30.2         31.8         32.6         33.0   \n",
       " 43          6.7          6.8          6.8          6.6   \n",
       " 44         41.6         42.3         43.5         43.5   \n",
       " 45        211.6        216.4        224.5        232.0   \n",
       " 46         16.8         17.3         17.7         17.7   \n",
       " 47          3.3          3.3          3.4          3.3   \n",
       " 48         48.8         47.2         47.5         47.5   \n",
       " 49         40.5         43.2         48.9         47.2   \n",
       " 50         11.1         11.4         12.2         11.5   \n",
       " 51         30.2         29.7         29.4         28.8   \n",
       " 52          8.1          7.6          7.7          7.8   \n",
       " 53       1826.4       1851.8       1889.6       1905.1   \n",
       " \n",
       "                 Unnamed: 39  Unnamed: 40  \n",
       " 0   Change from 1980 - 2017          NaN  \n",
       " 1                   Percent     Absolute  \n",
       " 2                  0.366935        -25.5  \n",
       " 3                    0.8125          1.2  \n",
       " 4                  0.783784          8.9  \n",
       " 5                  0.356643         22.2  \n",
       " 6                  0.271504         -2.9  \n",
       " 7                  0.615819          7.1  \n",
       " 8                  0.151515          0.2  \n",
       " 9                  0.205128         -2.1  \n",
       " 10                -0.473684         -0.3  \n",
       " 11                 0.548387         17.8  \n",
       " 12                 0.468031          -16  \n",
       " 13               -0.0285714          1.4  \n",
       " 14                 0.830508         -0.7  \n",
       " 15                 0.181347        -13.7  \n",
       " 16                 0.341853        -19.2  \n",
       " 17                 0.215569          6.6  \n",
       " 18                -0.042328          2.7  \n",
       " 19                 0.422907            1  \n",
       " 20                 0.147505         13.4  \n",
       " 21                 0.423729         -0.1  \n",
       " 22                 0.197368        -11.7  \n",
       " 23                 0.204724         -0.9  \n",
       " 24                 0.132723        -23.2  \n",
       " 25                 0.316239          1.9  \n",
       " 26                 0.674033         -1.9  \n",
       " 27                  0.28866           18  \n",
       " 28                 0.269841          9.3  \n",
       " 29                  0.40404         13.5  \n",
       " 30                  0.86747         -6.1  \n",
       " 31                 0.658537         -2.4  \n",
       " 32                 0.306373         -4.8  \n",
       " 33                 0.271186            0  \n",
       " 34                 0.041841        -27.3  \n",
       " 35                 0.561905        -25.2  \n",
       " 36                 0.692308         22.6  \n",
       " 37                 0.125448        -65.3  \n",
       " 38                 0.516279          8.9  \n",
       " 39                 0.217647          0.7  \n",
       " 40                 0.105719        -88.5  \n",
       " 41                0.0810811            0  \n",
       " 42                 0.864407         -4.6  \n",
       " 43                 0.466667         -0.9  \n",
       " 44                 0.510417        -22.2  \n",
       " 45                 0.804044           70  \n",
       " 46                 0.966667         10.5  \n",
       " 47                    0.375         -0.1  \n",
       " 48                 0.380814         -6.5  \n",
       " 49                 0.573333         -2.6  \n",
       " 50                 0.127451        -12.3  \n",
       " 51                 0.236052          6.4  \n",
       " 52                 0.258065         18.7  \n",
       " 53                 0.362927       -124.3  \n",
       " \n",
       " [54 rows x 41 columns],\n",
       " [1397.8,\n",
       "  1382.7,\n",
       "  1350.5,\n",
       "  1354.3,\n",
       "  1384.1,\n",
       "  1414.9,\n",
       "  1465.1,\n",
       "  1511.3,\n",
       "  1571.1,\n",
       "  1583.1,\n",
       "  1580.3,\n",
       "  1559.9,\n",
       "  1582.9,\n",
       "  1601.4,\n",
       "  1641.1,\n",
       "  1675.7,\n",
       "  1720.9,\n",
       "  1739.7,\n",
       "  1776.4,\n",
       "  1822.5,\n",
       "  1866.4,\n",
       "  1845.5,\n",
       "  1886.5,\n",
       "  1886.7,\n",
       "  1953.2,\n",
       "  1979.9,\n",
       "  2008.5,\n",
       "  2013.7,\n",
       "  1890.0,\n",
       "  1824.6,\n",
       "  1841.6,\n",
       "  1813.0,\n",
       "  1778.1,\n",
       "  1808.1,\n",
       "  1826.4,\n",
       "  1851.8,\n",
       "  1889.6,\n",
       "  1905.1,\n",
       "  0.3629274574331092],\n",
       " 2                      Alabama\n",
       " 3                       Alaska\n",
       " 4                      Arizona\n",
       " 5                     Arkansas\n",
       " 6                   California\n",
       " 7                     Colorado\n",
       " 8                  Connecticut\n",
       " 9                     Delaware\n",
       " 10        District of Columbia\n",
       " 11                     Florida\n",
       " 12                     Georgia\n",
       " 13                      Hawaii\n",
       " 14                       Idaho\n",
       " 15                    Illinois\n",
       " 16                     Indiana\n",
       " 17                        Iowa\n",
       " 18                      Kansas\n",
       " 19                    Kentucky\n",
       " 20                   Louisiana\n",
       " 21                       Maine\n",
       " 22                    Maryland\n",
       " 23               Massachusetts\n",
       " 24                    Michigan\n",
       " 25                   Minnesota\n",
       " 26                 Mississippi\n",
       " 27                    Missouri\n",
       " 28                     Montana\n",
       " 29                    Nebraska\n",
       " 30                      Nevada\n",
       " 31               New Hampshire\n",
       " 32                  New Jersey\n",
       " 33                  New Mexico\n",
       " 34                    New York\n",
       " 35              North Carolina\n",
       " 36                North Dakota\n",
       " 37                        Ohio\n",
       " 38                    Oklahoma\n",
       " 39                      Oregon\n",
       " 40                Pennsylvania\n",
       " 41                Rhode Island\n",
       " 42              South Carolina\n",
       " 43                South Dakota\n",
       " 44                   Tennessee\n",
       " 45                       Texas\n",
       " 46                        Utah\n",
       " 47                     Vermont\n",
       " 48                    Virginia\n",
       " 49                  Washington\n",
       " 50               West Virginia\n",
       " 51                   Wisconsin\n",
       " 52                     Wyoming\n",
       " 53    State total (unadjusted)\n",
       " Name: Transportation Emissions by State (1980 - 2017), dtype: object)"
      ]
     },
     "execution_count": 5,
     "metadata": {},
     "output_type": "execute_result"
    }
   ],
   "source": [
    "#the datasets\n",
    "#from_ten_to_sixteen = carbon emssion for each states between 2010 to 2017 (index = 0: years, others: emission for each state)\n",
    "#carbon_emission: dataset directly from transportaition\n",
    "#total emission: total emission for each state from 2014 to 2017\n",
    "#states: name of the states\n",
    "from_ten_to_sixteen, carbon_emission,total_emission,states"
   ]
  },
  {
   "cell_type": "code",
   "execution_count": 6,
   "metadata": {
    "colab": {
     "base_uri": "https://localhost:8080/"
    },
    "id": "5sx54fVaBUpl",
    "outputId": "b2957d6e-0a22-48bb-bb98-3d010d4aefc2"
   },
   "outputs": [
    {
     "name": "stdout",
     "output_type": "stream",
     "text": [
      "Unnamed: 34\n",
      "[ 31.6  12.3  31.1  18.7 197.6  27.5  15.1   4.1   1.  100.   55.9   9.9\n",
      "   9.2  63.7  42.5  20.3  19.5  29.9  45.4   8.8  28.3  30.4  48.7  30.\n",
      "  24.9  37.1   8.1  13.4  14.2   6.7  58.3  13.7  68.5  49.1   9.4  62.6\n",
      "  30.6  20.7  61.    3.9  30.9   6.5  40.6 208.3  17.1   3.3  49.7  41.4\n",
      "  11.1  28. ]\n",
      "Unnamed: 35\n",
      "[ 31.6  11.7  31.3  19.  200.   28.2  15.1   4.2   1.1 101.1  53.5   9.9\n",
      "   9.3  65.   43.3  20.9  20.5  30.8  44.3   8.8  27.7  28.8  48.2  30.2\n",
      "  25.8  37.7   7.8  13.9  14.1   6.7  58.8  14.3  72.9  49.2  10.   63.5\n",
      "  32.7  20.8  60.8   4.1  30.2   6.7  41.6 211.6  16.8   3.3  48.8  40.5\n",
      "  11.1  30.2]\n",
      "Unnamed: 36\n",
      "[ 32.9  12.2  31.9  18.8 205.6  27.9  15.1   4.4   1.1 104.8  56.3  10.1\n",
      "  10.3  67.9  43.4  20.2  19.   31.6  47.8   8.8  28.4  29.7  49.4  29.8\n",
      "  26.5  37.5   7.6  13.8  14.3   6.7  58.3  14.4  71.2  48.2   9.2  63.5\n",
      "  32.2  20.3  59.5   4.1  31.8   6.8  42.3 216.4  17.3   3.3  47.2  43.2\n",
      "  11.4  29.7]\n",
      "Unnamed: 37\n",
      "[ 34.7  11.8  33.   19.4 212.7  28.1  15.3   4.6   1.2 103.5  53.9  10.2\n",
      "  10.7  68.2  43.3  21.3  18.6  32.   48.5   8.9  27.5  31.6  50.1  31.3\n",
      "  29.7  37.9   7.8  13.8  15.    6.7  57.9  14.1  75.   49.    8.3  62.7\n",
      "  32.5  20.4  60.3   3.8  32.6   6.8  43.5 224.5  17.7   3.4  47.5  48.9\n",
      "  12.2  29.4]\n",
      "Unnamed: 38\n",
      "[ 33.9  11.6  33.   19.4 217.3  28.6  15.2   4.7   1.  105.6  57.4  10.2\n",
      "  10.8  68.4  42.   20.3  18.1  32.3  52.9   8.4  27.3  30.6  49.5  30.8\n",
      "  30.3  37.5   8.   13.9  15.5   6.8  53.3  15.   74.7  49.2   8.8  62.8\n",
      "  32.6  20.7  63.8   4.   33.    6.6  43.5 232.   17.7   3.3  47.5  47.2\n",
      "  11.5  28.8]\n"
     ]
    }
   ],
   "source": [
    "#from index 2 to 52 will be dimension\n",
    "state = carbon_emission.loc[2].tolist()\n",
    "data = carbon_emission.iloc[2:52,-7:-2].to_dict()#from 2013 to 2017\n",
    "x_data = np.zeros((5,50))#dimension is emission from states and each data is each year\n",
    "for i in range(len(data)):\n",
    "    column = 'Unnamed: '+ str(i+34)\n",
    "    print(column)\n",
    "    x_data[i] = list(data[column].values())\n",
    "    print(x_data[i])"
   ]
  },
  {
   "cell_type": "markdown",
   "metadata": {
    "id": "kQ_YVbzpBUpq"
   },
   "source": [
    "# Linear Regression"
   ]
  },
  {
   "cell_type": "markdown",
   "metadata": {
    "id": "9Ew7dq4VBUpq"
   },
   "source": [
    "#### read the data\n",
    "dataset for linear regression"
   ]
  },
  {
   "cell_type": "code",
   "execution_count": 7,
   "metadata": {
    "colab": {
     "base_uri": "https://localhost:8080/",
     "height": 314
    },
    "id": "9v8WLAb3BUpr",
    "outputId": "e7bc760f-3d21-4877-830d-7d3f6b3834dc"
   },
   "outputs": [
    {
     "data": {
      "text/html": [
       "<div>\n",
       "<style scoped>\n",
       "    .dataframe tbody tr th:only-of-type {\n",
       "        vertical-align: middle;\n",
       "    }\n",
       "\n",
       "    .dataframe tbody tr th {\n",
       "        vertical-align: top;\n",
       "    }\n",
       "\n",
       "    .dataframe thead th {\n",
       "        text-align: right;\n",
       "    }\n",
       "</style>\n",
       "<table border=\"1\" class=\"dataframe\">\n",
       "  <thead>\n",
       "    <tr style=\"text-align: right;\">\n",
       "      <th></th>\n",
       "      <th>Unnamed: 1</th>\n",
       "      <th>Unnamed: 2</th>\n",
       "      <th>Unnamed: 3</th>\n",
       "    </tr>\n",
       "  </thead>\n",
       "  <tbody>\n",
       "    <tr>\n",
       "      <th>0</th>\n",
       "      <td>CO2 emissions (million metric tons of carbon d...</td>\n",
       "      <td>EV sales (#of vehicles)</td>\n",
       "      <td>Total car sales (# of vehicles)</td>\n",
       "    </tr>\n",
       "    <tr>\n",
       "      <th>1</th>\n",
       "      <td>1813</td>\n",
       "      <td>9178</td>\n",
       "      <td>12695712</td>\n",
       "    </tr>\n",
       "    <tr>\n",
       "      <th>2</th>\n",
       "      <td>1778.1</td>\n",
       "      <td>12820</td>\n",
       "      <td>15376264</td>\n",
       "    </tr>\n",
       "    <tr>\n",
       "      <th>3</th>\n",
       "      <td>1808.1</td>\n",
       "      <td>46832</td>\n",
       "      <td>15490245</td>\n",
       "    </tr>\n",
       "    <tr>\n",
       "      <th>4</th>\n",
       "      <td>1826.4</td>\n",
       "      <td>60363</td>\n",
       "      <td>16424017</td>\n",
       "    </tr>\n",
       "    <tr>\n",
       "      <th>5</th>\n",
       "      <td>1851.8</td>\n",
       "      <td>477674</td>\n",
       "      <td>17404970</td>\n",
       "    </tr>\n",
       "    <tr>\n",
       "      <th>6</th>\n",
       "      <td>1889.6</td>\n",
       "      <td>483753</td>\n",
       "      <td>17500719</td>\n",
       "    </tr>\n",
       "    <tr>\n",
       "      <th>7</th>\n",
       "      <td>1905.1</td>\n",
       "      <td>95610</td>\n",
       "      <td>17212565</td>\n",
       "    </tr>\n",
       "    <tr>\n",
       "      <th>8</th>\n",
       "      <td>1950</td>\n",
       "      <td>203625</td>\n",
       "      <td>17323849</td>\n",
       "    </tr>\n",
       "  </tbody>\n",
       "</table>\n",
       "</div>"
      ],
      "text/plain": [
       "                                          Unnamed: 1               Unnamed: 2  \\\n",
       "0  CO2 emissions (million metric tons of carbon d...  EV sales (#of vehicles)   \n",
       "1                                               1813                     9178   \n",
       "2                                             1778.1                    12820   \n",
       "3                                             1808.1                    46832   \n",
       "4                                             1826.4                    60363   \n",
       "5                                             1851.8                   477674   \n",
       "6                                             1889.6                   483753   \n",
       "7                                             1905.1                    95610   \n",
       "8                                               1950                   203625   \n",
       "\n",
       "                        Unnamed: 3  \n",
       "0  Total car sales (# of vehicles)  \n",
       "1                         12695712  \n",
       "2                         15376264  \n",
       "3                         15490245  \n",
       "4                         16424017  \n",
       "5                         17404970  \n",
       "6                         17500719  \n",
       "7                         17212565  \n",
       "8                         17323849  "
      ]
     },
     "execution_count": 7,
     "metadata": {},
     "output_type": "execute_result"
    }
   ],
   "source": [
    "import pandas as pd\n",
    "import numpy as np\n",
    "dataset = pd.read_excel(\"linear_regression_data_(co2_EV_sales).xlsx\")\n",
    "dataset = dataset.iloc[:,1:]\n",
    "dataset"
   ]
  },
  {
   "cell_type": "markdown",
   "metadata": {
    "id": "WZqM9q9wBUpv"
   },
   "source": [
    "#### sort the dataset for linear regression\n",
    "y: CO2 emissions\n",
    "x1: EV sales\n",
    "x2: total car sales\n",
    "n_total: total number of x data (which is same for y\n",
    "slope: the growth of CO2 emission by "
   ]
  },
  {
   "cell_type": "code",
   "execution_count": 8,
   "metadata": {
    "colab": {
     "base_uri": "https://localhost:8080/"
    },
    "id": "UUEqBBl1BUpv",
    "outputId": "11ca2a47-e796-4e4c-8ffc-f7ffbd070e11"
   },
   "outputs": [
    {
     "data": {
      "text/plain": [
       "(array([1813. , 1778.1, 1808.1, 1826.4, 1851.8, 1889.6, 1905.1, 1950. ]),\n",
       " array([  9178,  12820,  46832,  60363, 477674, 483753,  95610, 203625]),\n",
       " array([12695712, 15376264, 15490245, 16424017, 17404970, 17500719,\n",
       "        17212565, 17323849]),\n",
       " array([12686534, 15363444, 15443413, 16363654, 16927296, 17016966,\n",
       "        17116955, 17120224]),\n",
       " 8)"
      ]
     },
     "execution_count": 8,
     "metadata": {},
     "output_type": "execute_result"
    }
   ],
   "source": [
    "import numpy as np\n",
    "co2emissions = np.asarray(dataset.iloc[1:,0].tolist())\n",
    "evsales = np.asarray(dataset.iloc[1:,1].tolist())\n",
    "totalcarsales = np.asarray(dataset.iloc[1:,2].tolist())\n",
    "nonevsales = totalcarsales-evsales\n",
    "n_total = len(co2emissions)\n",
    "co2emissions, evsales, totalcarsales, nonevsales,n_total"
   ]
  },
  {
   "cell_type": "code",
   "execution_count": 9,
   "metadata": {
    "id": "VJTPNM0TBUp8",
    "outputId": "463ba8b9-b193-4a03-88b8-0bb32368ed07"
   },
   "outputs": [
    {
     "ename": "NameError",
     "evalue": "name 'x' is not defined",
     "output_type": "error",
     "traceback": [
      "\u001b[0;31m---------------------------------------------------------------------------\u001b[0m",
      "\u001b[0;31mNameError\u001b[0m                                 Traceback (most recent call last)",
      "\u001b[0;32m<ipython-input-9-6d0941d3fca8>\u001b[0m in \u001b[0;36m<module>\u001b[0;34m\u001b[0m\n\u001b[1;32m      1\u001b[0m \u001b[0;31m#slope by the least squares fit\u001b[0m\u001b[0;34m\u001b[0m\u001b[0;34m\u001b[0m\u001b[0;34m\u001b[0m\u001b[0m\n\u001b[0;32m----> 2\u001b[0;31m \u001b[0mx_normal\u001b[0m \u001b[0;34m=\u001b[0m \u001b[0mx\u001b[0m \u001b[0;34m-\u001b[0m \u001b[0mx\u001b[0m\u001b[0;34m.\u001b[0m\u001b[0msum\u001b[0m\u001b[0;34m(\u001b[0m\u001b[0;34m)\u001b[0m\u001b[0;34m\u001b[0m\u001b[0;34m\u001b[0m\u001b[0m\n\u001b[0m\u001b[1;32m      3\u001b[0m \u001b[0my_normal\u001b[0m \u001b[0;34m=\u001b[0m \u001b[0my\u001b[0m \u001b[0;34m-\u001b[0m \u001b[0my\u001b[0m\u001b[0;34m.\u001b[0m\u001b[0msum\u001b[0m\u001b[0;34m(\u001b[0m\u001b[0;34m)\u001b[0m\u001b[0;34m/\u001b[0m\u001b[0mn_total\u001b[0m\u001b[0;34m\u001b[0m\u001b[0;34m\u001b[0m\u001b[0m\n\u001b[1;32m      4\u001b[0m \u001b[0mxdoty\u001b[0m \u001b[0;34m=\u001b[0m \u001b[0mnp\u001b[0m\u001b[0;34m.\u001b[0m\u001b[0mdot\u001b[0m\u001b[0;34m(\u001b[0m\u001b[0mx_normal\u001b[0m\u001b[0;34m.\u001b[0m\u001b[0mT\u001b[0m\u001b[0;34m,\u001b[0m \u001b[0my_normal\u001b[0m\u001b[0;34m)\u001b[0m\u001b[0;34m\u001b[0m\u001b[0;34m\u001b[0m\u001b[0m\n\u001b[1;32m      5\u001b[0m \u001b[0mxsquare\u001b[0m \u001b[0;34m=\u001b[0m \u001b[0mnp\u001b[0m\u001b[0;34m.\u001b[0m\u001b[0mdot\u001b[0m\u001b[0;34m(\u001b[0m\u001b[0mx_normal\u001b[0m\u001b[0;34m.\u001b[0m\u001b[0mT\u001b[0m\u001b[0;34m,\u001b[0m \u001b[0mx_normal\u001b[0m\u001b[0;34m)\u001b[0m\u001b[0;34m\u001b[0m\u001b[0;34m\u001b[0m\u001b[0m\n",
      "\u001b[0;31mNameError\u001b[0m: name 'x' is not defined"
     ]
    }
   ],
   "source": [
    "#slope by the least squares fit\n",
    "x_normal = x - x.sum()\n",
    "y_normal = y - y.sum()/n_total\n",
    "xdoty = np.dot(x_normal.T, y_normal)\n",
    "xsquare = np.dot(x_normal.T, x_normal)\n",
    "slope = xdoty/xsquare\n",
    "slope"
   ]
  },
  {
   "cell_type": "code",
   "execution_count": 10,
   "metadata": {
    "colab": {
     "base_uri": "https://localhost:8080/"
    },
    "id": "UdQgr2XqBUp_",
    "outputId": "3d9a2c46-3c52-4087-dc4b-cf9cce15837e"
   },
   "outputs": [
    {
     "data": {
      "text/plain": [
       "(array([[1774.54098826],\n",
       "        [1832.64933002],\n",
       "        [1835.69672802],\n",
       "        [1856.14761823],\n",
       "        [1884.49608043],\n",
       "        [1886.67300624],\n",
       "        [1873.8235358 ],\n",
       "        [1878.07271299]]),\n",
       " array([[3.86834074e-05, 2.16546155e-05]]),\n",
       " array([1499.4639361]),\n",
       " (8, 1))"
      ]
     },
     "execution_count": 10,
     "metadata": {},
     "output_type": "execute_result"
    }
   ],
   "source": [
    "#slope by scikit linear regression\n",
    "from sklearn import datasets, linear_model,decomposition\n",
    "reg = linear_model.LinearRegression()\n",
    "x1 = np.zeros((n_total, 2))\n",
    "x1[:,0] = evsales\n",
    "x1[:,1] = nonevsales\n",
    "y1 = co2emissions.reshape(-1,1)\n",
    "reg.fit(x1,y1)\n",
    "pred = reg.predict(x1)\n",
    "reg.set_params(normalize = True)\n",
    "pred,reg.coef_,reg.intercept_,pred.shape"
   ]
  },
  {
   "cell_type": "code",
   "execution_count": 54,
   "metadata": {},
   "outputs": [
    {
     "name": "stdout",
     "output_type": "stream",
     "text": [
      "(1, 100) (100, 1)\n"
     ]
    },
    {
     "data": {
      "image/png": "[encoded data removed]",
      "text/plain": [
       "<Figure size 432x288 with 1 Axes>"
      ]
     },
     "metadata": {
      "needs_background": "light"
     },
     "output_type": "display_data"
    }
   ],
   "source": [
    "#generate prediction data for the plane\n",
    "possible_ev = np.arange(1778,1950,(1950-1778)/100)\n",
    "min_ = np.amin(nonevsales)\n",
    "max_ = np.amax(nonevsales)\n",
    "possible_non = np.arange(min_, max_, (max_ - min_)/100)\n",
    "possible_ev.shape, possible_non.shape \n",
    "possible_x = np.zeros((20, 2))\n",
    "#possible_x[:,0] = possible_ev\n",
    "#possible_x[:,1] = possible_non\n",
    "pred = reg.predict(possible_x)\n",
    "xx, yy = np.meshgrid(possible_ev, possible_non, sparse=True)\n",
    "#z = np.zeros((20,20))\n",
    "print(xx.shape, yy.shape)\n",
    "for x in range(20):\n",
    "    for y in range(20):\n",
    "        z[x,y] = reg.coef_[:,0]*xx[:,x] + reg.coef_[:,1]*yy[y]\n",
    "mez = reg.coef_[:,0]*xx + reg.coef_[:,1]*yy\n",
    "h = plt.contourf(possible_ev,possible_non,mez)\n",
    "#possible_non = np.arrage"
   ]
  },
  {
   "cell_type": "code",
   "execution_count": 56,
   "metadata": {
    "colab": {
     "base_uri": "https://localhost:8080/",
     "height": 443
    },
    "id": "wd_p7BKnBUqD",
    "outputId": "b42dd39a-8e3c-47ce-c80b-fed5fe3cbfb2"
   },
   "outputs": [
    {
     "data": {
      "image/png": "[encoded data removed]",
      "text/plain": [
       "<Figure size 432x288 with 1 Axes>"
      ]
     },
     "metadata": {
      "needs_background": "light"
     },
     "output_type": "display_data"
    }
   ],
   "source": [
    "#plotting linear regression\n",
    "fig = plt.figure(1778)\n",
    "ax = fig.add_subplot(111, projection='3d')\n",
    "#ax.scatter(evsales,nonevsales,co2emissions,c='blue',marker='o',alpha=1)\n",
    "ax.plot_surface(xx, yy, mez, rstride=1, cstride=1,\n",
    "                cmap='viridis', edgecolor='none')\n",
    "ax.set_xlabel('EV Sales')\n",
    "ax.set_ylabel('Non EV Sales')\n",
    "ax.set_zlabel('CO2 Emissions')\n",
    "#x_surf, y_surf = np.meshgrid(np.linspace(evsales.min(), evsales.max(), n_total),np.linspace(nonevsales.min(), nonevsales.max(), n_total))\n",
    "#ax.plot_surface(x_surf,y_surf,pred.reshape(x_surf.shape), color='None', alpha=0.01)\n",
    "plt.show()"
   ]
  },
  {
   "cell_type": "code",
   "execution_count": null,
   "metadata": {
    "id": "utjd-FlVBUqI"
   },
   "outputs": [],
   "source": [
    "#prediction using pca\n",
    "combine = np.column_stack((x,y)).T\n",
    "pca = decomposition.PCA(n_components = 1)\n",
    "combine_pca = pca.fit_transform(combine)"
   ]
  },
  {
   "cell_type": "code",
   "execution_count": null,
   "metadata": {
    "id": "SMgvpXn9BUqL"
   },
   "outputs": [],
   "source": [
    "plotline(x,y,combine[:,0],combine[:,1],'deeppink',1)\n",
    "plt.show()"
   ]
  },
  {
   "cell_type": "code",
   "execution_count": null,
   "metadata": {
    "id": "_BfAEe5-BUqP"
   },
   "outputs": [],
   "source": []
  }
 ],
 "metadata": {
  "colab": {
   "name": "linear_regression.ipynb",
   "provenance": []
  },
  "kernelspec": {
   "display_name": "Python 3",
   "language": "python",
   "name": "python3"
  },
  "language_info": {
   "codemirror_mode": {
    "name": "ipython",
    "version": 3
   },
   "file_extension": ".py",
   "mimetype": "text/x-python",
   "name": "python",
   "nbconvert_exporter": "python",
   "pygments_lexer": "ipython3",
   "version": "3.8.3"
  }
 },
 "nbformat": 4,
 "nbformat_minor": 1
}
